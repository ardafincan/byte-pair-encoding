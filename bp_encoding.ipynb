{
 "cells": [
  {
   "cell_type": "code",
   "execution_count": null,
   "metadata": {},
   "outputs": [],
   "source": [
    "class BPE:\n",
    "    def __init__(self, vocab_size):\n",
    "        self.vocab_size = vocab_size\n",
    "        self.tokens = []\n",
    "\n",
    "    def train(self, corpus):\n",
    "        self.corpus = corpus\n",
    "\n",
    "        corpus.replace(\" \", \"_\")\n",
    "        characters = [x for x in corpus]\n",
    "        tokens = list(set(characters))\n",
    "\n",
    "        while len(tokens) < self.vocab_size\n"
   ]
  }
 ],
 "metadata": {
  "kernelspec": {
   "display_name": "Python 3",
   "language": "python",
   "name": "python3"
  },
  "language_info": {
   "name": "python",
   "version": "3.12.5"
  }
 },
 "nbformat": 4,
 "nbformat_minor": 2
}
